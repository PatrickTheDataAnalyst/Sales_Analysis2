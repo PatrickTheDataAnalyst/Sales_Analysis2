{
 "cells": [
  {
   "cell_type": "code",
   "execution_count": 1,
   "metadata": {},
   "outputs": [],
   "source": [
    "import pandas as pd"
   ]
  },
  {
   "cell_type": "markdown",
   "metadata": {},
   "source": [
    "## SALES ANALYSIS"
   ]
  },
  {
   "cell_type": "markdown",
   "metadata": {},
   "source": [
    "## Importing libraries"
   ]
  },
  {
   "cell_type": "code",
   "execution_count": 3,
   "metadata": {},
   "outputs": [],
   "source": [
    "import pandas as pd\n",
    "import os\n",
    "import matplotlib.pyplot as plt"
   ]
  },
  {
   "cell_type": "markdown",
   "metadata": {},
   "source": [
    "Reading the sales files in the folder and combining them into 1 file"
   ]
  },
  {
   "cell_type": "code",
   "execution_count": 7,
   "metadata": {},
   "outputs": [
    {
     "name": "stdout",
     "output_type": "stream",
     "text": [
      "All files have been combined and saved to C:\\Users\\Patri\\Desktop\\Studies\\Python\\Keith\\Pandas-Data-Science-Tasks\\SalesAnalysis\\combined_sales_data.csv\n"
     ]
    }
   ],
   "source": [
    "# Path to the directory containing the sales data\n",
    "folder_path = r\"C:\\Users\\Patri\\Desktop\\Studies\\Python\\Keith\\Pandas-Data-Science-Tasks\\SalesAnalysis\\Sales_Data\"\n",
    "\n",
    "# Initialize an empty list to store the dataframes\n",
    "all_data = []\n",
    "\n",
    "# Loop over all files in the directory\n",
    "for file in os.listdir(folder_path):\n",
    "    if file.endswith(\".csv\"):  # Check if the file is a CSV file\n",
    "        file_path = os.path.join(folder_path, file)  # Create full file path\n",
    "        df = pd.read_csv(file_path)  # Read the CSV file into a dataframe\n",
    "        all_data.append(df)  # Append the dataframe to the list\n",
    "\n",
    "# Concatenate all dataframes into one\n",
    "all_data_df = pd.concat(all_data, ignore_index=True)\n",
    "\n",
    "# Save the combined dataframe to a new CSV file\n",
    "output_file = r\"C:\\Users\\Patri\\Desktop\\Studies\\Python\\Keith\\Pandas-Data-Science-Tasks\\SalesAnalysis\\combined_sales_data.csv\"\n",
    "all_data_df.to_csv(output_file, index=False)\n",
    "\n",
    "print(\"All files have been combined and saved to\", output_file)\n"
   ]
  },
  {
   "cell_type": "markdown",
   "metadata": {},
   "source": [
    "Reading the combined file and putting it into the data frame"
   ]
  },
  {
   "cell_type": "code",
   "execution_count": 4,
   "metadata": {},
   "outputs": [
    {
     "data": {
      "text/html": [
       "<div>\n",
       "<style scoped>\n",
       "    .dataframe tbody tr th:only-of-type {\n",
       "        vertical-align: middle;\n",
       "    }\n",
       "\n",
       "    .dataframe tbody tr th {\n",
       "        vertical-align: top;\n",
       "    }\n",
       "\n",
       "    .dataframe thead th {\n",
       "        text-align: right;\n",
       "    }\n",
       "</style>\n",
       "<table border=\"1\" class=\"dataframe\">\n",
       "  <thead>\n",
       "    <tr style=\"text-align: right;\">\n",
       "      <th></th>\n",
       "      <th>Order ID</th>\n",
       "      <th>Product</th>\n",
       "      <th>Quantity Ordered</th>\n",
       "      <th>Price Each</th>\n",
       "      <th>Order Date</th>\n",
       "      <th>Purchase Address</th>\n",
       "    </tr>\n",
       "  </thead>\n",
       "  <tbody>\n",
       "    <tr>\n",
       "      <th>0</th>\n",
       "      <td>176558</td>\n",
       "      <td>USB-C Charging Cable</td>\n",
       "      <td>2</td>\n",
       "      <td>11.95</td>\n",
       "      <td>04/19/19 08:46</td>\n",
       "      <td>917 1st St, Dallas, TX 75001</td>\n",
       "    </tr>\n",
       "    <tr>\n",
       "      <th>1</th>\n",
       "      <td>NaN</td>\n",
       "      <td>NaN</td>\n",
       "      <td>NaN</td>\n",
       "      <td>NaN</td>\n",
       "      <td>NaN</td>\n",
       "      <td>NaN</td>\n",
       "    </tr>\n",
       "    <tr>\n",
       "      <th>2</th>\n",
       "      <td>176559</td>\n",
       "      <td>Bose SoundSport Headphones</td>\n",
       "      <td>1</td>\n",
       "      <td>99.99</td>\n",
       "      <td>04/07/19 22:30</td>\n",
       "      <td>682 Chestnut St, Boston, MA 02215</td>\n",
       "    </tr>\n",
       "    <tr>\n",
       "      <th>3</th>\n",
       "      <td>176560</td>\n",
       "      <td>Google Phone</td>\n",
       "      <td>1</td>\n",
       "      <td>600</td>\n",
       "      <td>04/12/19 14:38</td>\n",
       "      <td>669 Spruce St, Los Angeles, CA 90001</td>\n",
       "    </tr>\n",
       "    <tr>\n",
       "      <th>4</th>\n",
       "      <td>176560</td>\n",
       "      <td>Wired Headphones</td>\n",
       "      <td>1</td>\n",
       "      <td>11.99</td>\n",
       "      <td>04/12/19 14:38</td>\n",
       "      <td>669 Spruce St, Los Angeles, CA 90001</td>\n",
       "    </tr>\n",
       "    <tr>\n",
       "      <th>...</th>\n",
       "      <td>...</td>\n",
       "      <td>...</td>\n",
       "      <td>...</td>\n",
       "      <td>...</td>\n",
       "      <td>...</td>\n",
       "      <td>...</td>\n",
       "    </tr>\n",
       "    <tr>\n",
       "      <th>186845</th>\n",
       "      <td>259353</td>\n",
       "      <td>AAA Batteries (4-pack)</td>\n",
       "      <td>3</td>\n",
       "      <td>2.99</td>\n",
       "      <td>09/17/19 20:56</td>\n",
       "      <td>840 Highland St, Los Angeles, CA 90001</td>\n",
       "    </tr>\n",
       "    <tr>\n",
       "      <th>186846</th>\n",
       "      <td>259354</td>\n",
       "      <td>iPhone</td>\n",
       "      <td>1</td>\n",
       "      <td>700</td>\n",
       "      <td>09/01/19 16:00</td>\n",
       "      <td>216 Dogwood St, San Francisco, CA 94016</td>\n",
       "    </tr>\n",
       "    <tr>\n",
       "      <th>186847</th>\n",
       "      <td>259355</td>\n",
       "      <td>iPhone</td>\n",
       "      <td>1</td>\n",
       "      <td>700</td>\n",
       "      <td>09/23/19 07:39</td>\n",
       "      <td>220 12th St, San Francisco, CA 94016</td>\n",
       "    </tr>\n",
       "    <tr>\n",
       "      <th>186848</th>\n",
       "      <td>259356</td>\n",
       "      <td>34in Ultrawide Monitor</td>\n",
       "      <td>1</td>\n",
       "      <td>379.99</td>\n",
       "      <td>09/19/19 17:30</td>\n",
       "      <td>511 Forest St, San Francisco, CA 94016</td>\n",
       "    </tr>\n",
       "    <tr>\n",
       "      <th>186849</th>\n",
       "      <td>259357</td>\n",
       "      <td>USB-C Charging Cable</td>\n",
       "      <td>1</td>\n",
       "      <td>11.95</td>\n",
       "      <td>09/30/19 00:18</td>\n",
       "      <td>250 Meadow St, San Francisco, CA 94016</td>\n",
       "    </tr>\n",
       "  </tbody>\n",
       "</table>\n",
       "<p>186850 rows × 6 columns</p>\n",
       "</div>"
      ],
      "text/plain": [
       "       Order ID                     Product Quantity Ordered Price Each  \\\n",
       "0        176558        USB-C Charging Cable                2      11.95   \n",
       "1           NaN                         NaN              NaN        NaN   \n",
       "2        176559  Bose SoundSport Headphones                1      99.99   \n",
       "3        176560                Google Phone                1        600   \n",
       "4        176560            Wired Headphones                1      11.99   \n",
       "...         ...                         ...              ...        ...   \n",
       "186845   259353      AAA Batteries (4-pack)                3       2.99   \n",
       "186846   259354                      iPhone                1        700   \n",
       "186847   259355                      iPhone                1        700   \n",
       "186848   259356      34in Ultrawide Monitor                1     379.99   \n",
       "186849   259357        USB-C Charging Cable                1      11.95   \n",
       "\n",
       "            Order Date                         Purchase Address  \n",
       "0       04/19/19 08:46             917 1st St, Dallas, TX 75001  \n",
       "1                  NaN                                      NaN  \n",
       "2       04/07/19 22:30        682 Chestnut St, Boston, MA 02215  \n",
       "3       04/12/19 14:38     669 Spruce St, Los Angeles, CA 90001  \n",
       "4       04/12/19 14:38     669 Spruce St, Los Angeles, CA 90001  \n",
       "...                ...                                      ...  \n",
       "186845  09/17/19 20:56   840 Highland St, Los Angeles, CA 90001  \n",
       "186846  09/01/19 16:00  216 Dogwood St, San Francisco, CA 94016  \n",
       "186847  09/23/19 07:39     220 12th St, San Francisco, CA 94016  \n",
       "186848  09/19/19 17:30   511 Forest St, San Francisco, CA 94016  \n",
       "186849  09/30/19 00:18   250 Meadow St, San Francisco, CA 94016  \n",
       "\n",
       "[186850 rows x 6 columns]"
      ]
     },
     "execution_count": 4,
     "metadata": {},
     "output_type": "execute_result"
    }
   ],
   "source": [
    "path = r'C:\\Users\\Patri\\Desktop\\Studies\\Python\\Keith\\Pandas-Data-Science-Tasks\\SalesAnalysis\\combined_sales_data.csv'\n",
    "\n",
    "df = pd.read_csv(path)\n",
    "\n",
    "df"
   ]
  },
  {
   "cell_type": "code",
   "execution_count": 4,
   "metadata": {},
   "outputs": [
    {
     "data": {
      "text/plain": [
       "(186850, 6)"
      ]
     },
     "execution_count": 4,
     "metadata": {},
     "output_type": "execute_result"
    }
   ],
   "source": [
    "#to check how many rows and columns in the data\n",
    "df.shape"
   ]
  },
  {
   "cell_type": "code",
   "execution_count": 5,
   "metadata": {},
   "outputs": [
    {
     "data": {
      "text/html": [
       "<div>\n",
       "<style scoped>\n",
       "    .dataframe tbody tr th:only-of-type {\n",
       "        vertical-align: middle;\n",
       "    }\n",
       "\n",
       "    .dataframe tbody tr th {\n",
       "        vertical-align: top;\n",
       "    }\n",
       "\n",
       "    .dataframe thead th {\n",
       "        text-align: right;\n",
       "    }\n",
       "</style>\n",
       "<table border=\"1\" class=\"dataframe\">\n",
       "  <thead>\n",
       "    <tr style=\"text-align: right;\">\n",
       "      <th></th>\n",
       "      <th>Order ID</th>\n",
       "      <th>Product</th>\n",
       "      <th>Quantity Ordered</th>\n",
       "      <th>Price Each</th>\n",
       "      <th>Order Date</th>\n",
       "      <th>Purchase Address</th>\n",
       "    </tr>\n",
       "  </thead>\n",
       "  <tbody>\n",
       "    <tr>\n",
       "      <th>0</th>\n",
       "      <td>176558</td>\n",
       "      <td>USB-C Charging Cable</td>\n",
       "      <td>2</td>\n",
       "      <td>11.95</td>\n",
       "      <td>04/19/19 08:46</td>\n",
       "      <td>917 1st St, Dallas, TX 75001</td>\n",
       "    </tr>\n",
       "    <tr>\n",
       "      <th>1</th>\n",
       "      <td>NaN</td>\n",
       "      <td>NaN</td>\n",
       "      <td>NaN</td>\n",
       "      <td>NaN</td>\n",
       "      <td>NaN</td>\n",
       "      <td>NaN</td>\n",
       "    </tr>\n",
       "    <tr>\n",
       "      <th>2</th>\n",
       "      <td>176559</td>\n",
       "      <td>Bose SoundSport Headphones</td>\n",
       "      <td>1</td>\n",
       "      <td>99.99</td>\n",
       "      <td>04/07/19 22:30</td>\n",
       "      <td>682 Chestnut St, Boston, MA 02215</td>\n",
       "    </tr>\n",
       "    <tr>\n",
       "      <th>3</th>\n",
       "      <td>176560</td>\n",
       "      <td>Google Phone</td>\n",
       "      <td>1</td>\n",
       "      <td>600</td>\n",
       "      <td>04/12/19 14:38</td>\n",
       "      <td>669 Spruce St, Los Angeles, CA 90001</td>\n",
       "    </tr>\n",
       "    <tr>\n",
       "      <th>4</th>\n",
       "      <td>176560</td>\n",
       "      <td>Wired Headphones</td>\n",
       "      <td>1</td>\n",
       "      <td>11.99</td>\n",
       "      <td>04/12/19 14:38</td>\n",
       "      <td>669 Spruce St, Los Angeles, CA 90001</td>\n",
       "    </tr>\n",
       "  </tbody>\n",
       "</table>\n",
       "</div>"
      ],
      "text/plain": [
       "  Order ID                     Product Quantity Ordered Price Each  \\\n",
       "0   176558        USB-C Charging Cable                2      11.95   \n",
       "1      NaN                         NaN              NaN        NaN   \n",
       "2   176559  Bose SoundSport Headphones                1      99.99   \n",
       "3   176560                Google Phone                1        600   \n",
       "4   176560            Wired Headphones                1      11.99   \n",
       "\n",
       "       Order Date                      Purchase Address  \n",
       "0  04/19/19 08:46          917 1st St, Dallas, TX 75001  \n",
       "1             NaN                                   NaN  \n",
       "2  04/07/19 22:30     682 Chestnut St, Boston, MA 02215  \n",
       "3  04/12/19 14:38  669 Spruce St, Los Angeles, CA 90001  \n",
       "4  04/12/19 14:38  669 Spruce St, Los Angeles, CA 90001  "
      ]
     },
     "execution_count": 5,
     "metadata": {},
     "output_type": "execute_result"
    }
   ],
   "source": [
    "#To view the first 5 rows\n",
    "df.head()"
   ]
  },
  {
   "cell_type": "code",
   "execution_count": 64,
   "metadata": {},
   "outputs": [
    {
     "data": {
      "text/html": [
       "<div>\n",
       "<style scoped>\n",
       "    .dataframe tbody tr th:only-of-type {\n",
       "        vertical-align: middle;\n",
       "    }\n",
       "\n",
       "    .dataframe tbody tr th {\n",
       "        vertical-align: top;\n",
       "    }\n",
       "\n",
       "    .dataframe thead th {\n",
       "        text-align: right;\n",
       "    }\n",
       "</style>\n",
       "<table border=\"1\" class=\"dataframe\">\n",
       "  <thead>\n",
       "    <tr style=\"text-align: right;\">\n",
       "      <th></th>\n",
       "      <th>Order ID</th>\n",
       "      <th>Product</th>\n",
       "      <th>Quantity Ordered</th>\n",
       "      <th>Price Each</th>\n",
       "      <th>Order Date</th>\n",
       "      <th>Purchase Address</th>\n",
       "    </tr>\n",
       "  </thead>\n",
       "  <tbody>\n",
       "    <tr>\n",
       "      <th>186845</th>\n",
       "      <td>259353</td>\n",
       "      <td>AAA Batteries (4-pack)</td>\n",
       "      <td>3</td>\n",
       "      <td>2.99</td>\n",
       "      <td>09/17/19 20:56</td>\n",
       "      <td>840 Highland St, Los Angeles, CA 90001</td>\n",
       "    </tr>\n",
       "    <tr>\n",
       "      <th>186846</th>\n",
       "      <td>259354</td>\n",
       "      <td>iPhone</td>\n",
       "      <td>1</td>\n",
       "      <td>700</td>\n",
       "      <td>09/01/19 16:00</td>\n",
       "      <td>216 Dogwood St, San Francisco, CA 94016</td>\n",
       "    </tr>\n",
       "    <tr>\n",
       "      <th>186847</th>\n",
       "      <td>259355</td>\n",
       "      <td>iPhone</td>\n",
       "      <td>1</td>\n",
       "      <td>700</td>\n",
       "      <td>09/23/19 07:39</td>\n",
       "      <td>220 12th St, San Francisco, CA 94016</td>\n",
       "    </tr>\n",
       "    <tr>\n",
       "      <th>186848</th>\n",
       "      <td>259356</td>\n",
       "      <td>34in Ultrawide Monitor</td>\n",
       "      <td>1</td>\n",
       "      <td>379.99</td>\n",
       "      <td>09/19/19 17:30</td>\n",
       "      <td>511 Forest St, San Francisco, CA 94016</td>\n",
       "    </tr>\n",
       "    <tr>\n",
       "      <th>186849</th>\n",
       "      <td>259357</td>\n",
       "      <td>USB-C Charging Cable</td>\n",
       "      <td>1</td>\n",
       "      <td>11.95</td>\n",
       "      <td>09/30/19 00:18</td>\n",
       "      <td>250 Meadow St, San Francisco, CA 94016</td>\n",
       "    </tr>\n",
       "  </tbody>\n",
       "</table>\n",
       "</div>"
      ],
      "text/plain": [
       "       Order ID                 Product Quantity Ordered Price Each  \\\n",
       "186845   259353  AAA Batteries (4-pack)                3       2.99   \n",
       "186846   259354                  iPhone                1        700   \n",
       "186847   259355                  iPhone                1        700   \n",
       "186848   259356  34in Ultrawide Monitor                1     379.99   \n",
       "186849   259357    USB-C Charging Cable                1      11.95   \n",
       "\n",
       "            Order Date                         Purchase Address  \n",
       "186845  09/17/19 20:56   840 Highland St, Los Angeles, CA 90001  \n",
       "186846  09/01/19 16:00  216 Dogwood St, San Francisco, CA 94016  \n",
       "186847  09/23/19 07:39     220 12th St, San Francisco, CA 94016  \n",
       "186848  09/19/19 17:30   511 Forest St, San Francisco, CA 94016  \n",
       "186849  09/30/19 00:18   250 Meadow St, San Francisco, CA 94016  "
      ]
     },
     "execution_count": 64,
     "metadata": {},
     "output_type": "execute_result"
    }
   ],
   "source": [
    "#to view the last 3 rows\n",
    "df.tail()"
   ]
  },
  {
   "cell_type": "markdown",
   "metadata": {},
   "source": [
    "## Cleaning the Data"
   ]
  },
  {
   "cell_type": "markdown",
   "metadata": {},
   "source": [
    "1.Dropping the Null value"
   ]
  },
  {
   "cell_type": "code",
   "execution_count": 5,
   "metadata": {},
   "outputs": [
    {
     "data": {
      "text/plain": [
       "Order ID            True\n",
       "Product             True\n",
       "Quantity Ordered    True\n",
       "Price Each          True\n",
       "Order Date          True\n",
       "Purchase Address    True\n",
       "dtype: bool"
      ]
     },
     "execution_count": 5,
     "metadata": {},
     "output_type": "execute_result"
    }
   ],
   "source": [
    "#Checking for the bul values\n",
    "df.isna().any()"
   ]
  },
  {
   "cell_type": "code",
   "execution_count": 6,
   "metadata": {},
   "outputs": [],
   "source": [
    "#Dropping the null values\n",
    "df = df.dropna()"
   ]
  },
  {
   "cell_type": "code",
   "execution_count": 67,
   "metadata": {},
   "outputs": [
    {
     "data": {
      "text/plain": [
       "(186305, 6)"
      ]
     },
     "execution_count": 67,
     "metadata": {},
     "output_type": "execute_result"
    }
   ],
   "source": [
    "df.shape"
   ]
  },
  {
   "cell_type": "code",
   "execution_count": 7,
   "metadata": {},
   "outputs": [
    {
     "data": {
      "text/plain": [
       "Order ID            False\n",
       "Product             False\n",
       "Quantity Ordered    False\n",
       "Price Each          False\n",
       "Order Date          False\n",
       "Purchase Address    False\n",
       "dtype: bool"
      ]
     },
     "execution_count": 7,
     "metadata": {},
     "output_type": "execute_result"
    }
   ],
   "source": [
    "#Confirming if Null values have been dropped\n",
    "df.isna().any()"
   ]
  },
  {
   "cell_type": "markdown",
   "metadata": {},
   "source": [
    "2.Getting rid of text in the date column"
   ]
  },
  {
   "cell_type": "code",
   "execution_count": 8,
   "metadata": {},
   "outputs": [],
   "source": [
    "df = df[df['Order Date'].str[0:2]!='Or']"
   ]
  },
  {
   "cell_type": "code",
   "execution_count": 71,
   "metadata": {},
   "outputs": [
    {
     "data": {
      "text/plain": [
       "(185950, 6)"
      ]
     },
     "execution_count": 71,
     "metadata": {},
     "output_type": "execute_result"
    }
   ],
   "source": [
    "df.shape"
   ]
  },
  {
   "cell_type": "markdown",
   "metadata": {},
   "source": [
    "3.Making Columns the correct type"
   ]
  },
  {
   "cell_type": "code",
   "execution_count": 9,
   "metadata": {},
   "outputs": [
    {
     "name": "stderr",
     "output_type": "stream",
     "text": [
      "C:\\Users\\Patri\\AppData\\Local\\Temp\\ipykernel_12072\\1390589970.py:4: UserWarning: Could not infer format, so each element will be parsed individually, falling back to `dateutil`. To ensure parsing is consistent and as-expected, please specify a format.\n",
      "  df['Order Date'] = pd.to_datetime(df['Order Date'])\n"
     ]
    }
   ],
   "source": [
    "df['Order ID'] = pd.to_numeric(df['Order ID'])\n",
    "df['Quantity Ordered'] = pd.to_numeric(df['Quantity Ordered'])\n",
    "df['Price Each']= pd.to_numeric(df['Price Each'])\n",
    "df['Order Date'] = pd.to_datetime(df['Order Date'])"
   ]
  },
  {
   "cell_type": "code",
   "execution_count": 10,
   "metadata": {},
   "outputs": [
    {
     "data": {
      "text/plain": [
       "Order ID                     int64\n",
       "Product                     object\n",
       "Quantity Ordered             int64\n",
       "Price Each                 float64\n",
       "Order Date          datetime64[ns]\n",
       "Purchase Address            object\n",
       "dtype: object"
      ]
     },
     "execution_count": 10,
     "metadata": {},
     "output_type": "execute_result"
    }
   ],
   "source": [
    "df.dtypes"
   ]
  },
  {
   "cell_type": "markdown",
   "metadata": {},
   "source": [
    "Removing the duplicates"
   ]
  },
  {
   "cell_type": "code",
   "execution_count": 11,
   "metadata": {},
   "outputs": [
    {
     "data": {
      "text/html": [
       "<div>\n",
       "<style scoped>\n",
       "    .dataframe tbody tr th:only-of-type {\n",
       "        vertical-align: middle;\n",
       "    }\n",
       "\n",
       "    .dataframe tbody tr th {\n",
       "        vertical-align: top;\n",
       "    }\n",
       "\n",
       "    .dataframe thead th {\n",
       "        text-align: right;\n",
       "    }\n",
       "</style>\n",
       "<table border=\"1\" class=\"dataframe\">\n",
       "  <thead>\n",
       "    <tr style=\"text-align: right;\">\n",
       "      <th></th>\n",
       "      <th>Order ID</th>\n",
       "      <th>Product</th>\n",
       "      <th>Quantity Ordered</th>\n",
       "      <th>Price Each</th>\n",
       "      <th>Order Date</th>\n",
       "      <th>Purchase Address</th>\n",
       "    </tr>\n",
       "  </thead>\n",
       "  <tbody>\n",
       "    <tr>\n",
       "      <th>3</th>\n",
       "      <td>176560</td>\n",
       "      <td>Google Phone</td>\n",
       "      <td>1</td>\n",
       "      <td>600.00</td>\n",
       "      <td>2019-04-12 14:38:00</td>\n",
       "      <td>669 Spruce St, Los Angeles, CA 90001</td>\n",
       "    </tr>\n",
       "    <tr>\n",
       "      <th>4</th>\n",
       "      <td>176560</td>\n",
       "      <td>Wired Headphones</td>\n",
       "      <td>1</td>\n",
       "      <td>11.99</td>\n",
       "      <td>2019-04-12 14:38:00</td>\n",
       "      <td>669 Spruce St, Los Angeles, CA 90001</td>\n",
       "    </tr>\n",
       "    <tr>\n",
       "      <th>18</th>\n",
       "      <td>176574</td>\n",
       "      <td>Google Phone</td>\n",
       "      <td>1</td>\n",
       "      <td>600.00</td>\n",
       "      <td>2019-04-03 19:42:00</td>\n",
       "      <td>20 Hill St, Los Angeles, CA 90001</td>\n",
       "    </tr>\n",
       "    <tr>\n",
       "      <th>19</th>\n",
       "      <td>176574</td>\n",
       "      <td>USB-C Charging Cable</td>\n",
       "      <td>1</td>\n",
       "      <td>11.95</td>\n",
       "      <td>2019-04-03 19:42:00</td>\n",
       "      <td>20 Hill St, Los Angeles, CA 90001</td>\n",
       "    </tr>\n",
       "    <tr>\n",
       "      <th>30</th>\n",
       "      <td>176585</td>\n",
       "      <td>Bose SoundSport Headphones</td>\n",
       "      <td>1</td>\n",
       "      <td>99.99</td>\n",
       "      <td>2019-04-07 11:31:00</td>\n",
       "      <td>823 Highland St, Boston, MA 02215</td>\n",
       "    </tr>\n",
       "    <tr>\n",
       "      <th>...</th>\n",
       "      <td>...</td>\n",
       "      <td>...</td>\n",
       "      <td>...</td>\n",
       "      <td>...</td>\n",
       "      <td>...</td>\n",
       "      <td>...</td>\n",
       "    </tr>\n",
       "    <tr>\n",
       "      <th>186792</th>\n",
       "      <td>259303</td>\n",
       "      <td>AA Batteries (4-pack)</td>\n",
       "      <td>1</td>\n",
       "      <td>3.84</td>\n",
       "      <td>2019-09-20 20:18:00</td>\n",
       "      <td>106 7th St, Atlanta, GA 30301</td>\n",
       "    </tr>\n",
       "    <tr>\n",
       "      <th>186803</th>\n",
       "      <td>259314</td>\n",
       "      <td>Wired Headphones</td>\n",
       "      <td>1</td>\n",
       "      <td>11.99</td>\n",
       "      <td>2019-09-16 00:25:00</td>\n",
       "      <td>241 Highland St, Atlanta, GA 30301</td>\n",
       "    </tr>\n",
       "    <tr>\n",
       "      <th>186804</th>\n",
       "      <td>259314</td>\n",
       "      <td>AAA Batteries (4-pack)</td>\n",
       "      <td>2</td>\n",
       "      <td>2.99</td>\n",
       "      <td>2019-09-16 00:25:00</td>\n",
       "      <td>241 Highland St, Atlanta, GA 30301</td>\n",
       "    </tr>\n",
       "    <tr>\n",
       "      <th>186841</th>\n",
       "      <td>259350</td>\n",
       "      <td>Google Phone</td>\n",
       "      <td>1</td>\n",
       "      <td>600.00</td>\n",
       "      <td>2019-09-30 13:49:00</td>\n",
       "      <td>519 Maple St, San Francisco, CA 94016</td>\n",
       "    </tr>\n",
       "    <tr>\n",
       "      <th>186842</th>\n",
       "      <td>259350</td>\n",
       "      <td>USB-C Charging Cable</td>\n",
       "      <td>1</td>\n",
       "      <td>11.95</td>\n",
       "      <td>2019-09-30 13:49:00</td>\n",
       "      <td>519 Maple St, San Francisco, CA 94016</td>\n",
       "    </tr>\n",
       "  </tbody>\n",
       "</table>\n",
       "<p>14649 rows × 6 columns</p>\n",
       "</div>"
      ],
      "text/plain": [
       "        Order ID                     Product  Quantity Ordered  Price Each  \\\n",
       "3         176560                Google Phone                 1      600.00   \n",
       "4         176560            Wired Headphones                 1       11.99   \n",
       "18        176574                Google Phone                 1      600.00   \n",
       "19        176574        USB-C Charging Cable                 1       11.95   \n",
       "30        176585  Bose SoundSport Headphones                 1       99.99   \n",
       "...          ...                         ...               ...         ...   \n",
       "186792    259303       AA Batteries (4-pack)                 1        3.84   \n",
       "186803    259314            Wired Headphones                 1       11.99   \n",
       "186804    259314      AAA Batteries (4-pack)                 2        2.99   \n",
       "186841    259350                Google Phone                 1      600.00   \n",
       "186842    259350        USB-C Charging Cable                 1       11.95   \n",
       "\n",
       "                Order Date                       Purchase Address  \n",
       "3      2019-04-12 14:38:00   669 Spruce St, Los Angeles, CA 90001  \n",
       "4      2019-04-12 14:38:00   669 Spruce St, Los Angeles, CA 90001  \n",
       "18     2019-04-03 19:42:00      20 Hill St, Los Angeles, CA 90001  \n",
       "19     2019-04-03 19:42:00      20 Hill St, Los Angeles, CA 90001  \n",
       "30     2019-04-07 11:31:00      823 Highland St, Boston, MA 02215  \n",
       "...                    ...                                    ...  \n",
       "186792 2019-09-20 20:18:00          106 7th St, Atlanta, GA 30301  \n",
       "186803 2019-09-16 00:25:00     241 Highland St, Atlanta, GA 30301  \n",
       "186804 2019-09-16 00:25:00     241 Highland St, Atlanta, GA 30301  \n",
       "186841 2019-09-30 13:49:00  519 Maple St, San Francisco, CA 94016  \n",
       "186842 2019-09-30 13:49:00  519 Maple St, San Francisco, CA 94016  \n",
       "\n",
       "[14649 rows x 6 columns]"
      ]
     },
     "execution_count": 11,
     "metadata": {},
     "output_type": "execute_result"
    }
   ],
   "source": [
    "df = df[df['Order ID'].duplicated(keep=False)]\n",
    "\n",
    "df"
   ]
  },
  {
   "cell_type": "markdown",
   "metadata": {},
   "source": [
    "4.Adding a month column"
   ]
  },
  {
   "cell_type": "code",
   "execution_count": 12,
   "metadata": {},
   "outputs": [
    {
     "data": {
      "text/html": [
       "<div>\n",
       "<style scoped>\n",
       "    .dataframe tbody tr th:only-of-type {\n",
       "        vertical-align: middle;\n",
       "    }\n",
       "\n",
       "    .dataframe tbody tr th {\n",
       "        vertical-align: top;\n",
       "    }\n",
       "\n",
       "    .dataframe thead th {\n",
       "        text-align: right;\n",
       "    }\n",
       "</style>\n",
       "<table border=\"1\" class=\"dataframe\">\n",
       "  <thead>\n",
       "    <tr style=\"text-align: right;\">\n",
       "      <th></th>\n",
       "      <th>Order ID</th>\n",
       "      <th>Product</th>\n",
       "      <th>Quantity Ordered</th>\n",
       "      <th>Price Each</th>\n",
       "      <th>Order Date</th>\n",
       "      <th>Purchase Address</th>\n",
       "      <th>Month</th>\n",
       "    </tr>\n",
       "  </thead>\n",
       "  <tbody>\n",
       "    <tr>\n",
       "      <th>3</th>\n",
       "      <td>176560</td>\n",
       "      <td>Google Phone</td>\n",
       "      <td>1</td>\n",
       "      <td>600.00</td>\n",
       "      <td>2019-04-12 14:38:00</td>\n",
       "      <td>669 Spruce St, Los Angeles, CA 90001</td>\n",
       "      <td>4</td>\n",
       "    </tr>\n",
       "    <tr>\n",
       "      <th>4</th>\n",
       "      <td>176560</td>\n",
       "      <td>Wired Headphones</td>\n",
       "      <td>1</td>\n",
       "      <td>11.99</td>\n",
       "      <td>2019-04-12 14:38:00</td>\n",
       "      <td>669 Spruce St, Los Angeles, CA 90001</td>\n",
       "      <td>4</td>\n",
       "    </tr>\n",
       "    <tr>\n",
       "      <th>18</th>\n",
       "      <td>176574</td>\n",
       "      <td>Google Phone</td>\n",
       "      <td>1</td>\n",
       "      <td>600.00</td>\n",
       "      <td>2019-04-03 19:42:00</td>\n",
       "      <td>20 Hill St, Los Angeles, CA 90001</td>\n",
       "      <td>4</td>\n",
       "    </tr>\n",
       "    <tr>\n",
       "      <th>19</th>\n",
       "      <td>176574</td>\n",
       "      <td>USB-C Charging Cable</td>\n",
       "      <td>1</td>\n",
       "      <td>11.95</td>\n",
       "      <td>2019-04-03 19:42:00</td>\n",
       "      <td>20 Hill St, Los Angeles, CA 90001</td>\n",
       "      <td>4</td>\n",
       "    </tr>\n",
       "    <tr>\n",
       "      <th>30</th>\n",
       "      <td>176585</td>\n",
       "      <td>Bose SoundSport Headphones</td>\n",
       "      <td>1</td>\n",
       "      <td>99.99</td>\n",
       "      <td>2019-04-07 11:31:00</td>\n",
       "      <td>823 Highland St, Boston, MA 02215</td>\n",
       "      <td>4</td>\n",
       "    </tr>\n",
       "    <tr>\n",
       "      <th>...</th>\n",
       "      <td>...</td>\n",
       "      <td>...</td>\n",
       "      <td>...</td>\n",
       "      <td>...</td>\n",
       "      <td>...</td>\n",
       "      <td>...</td>\n",
       "      <td>...</td>\n",
       "    </tr>\n",
       "    <tr>\n",
       "      <th>186792</th>\n",
       "      <td>259303</td>\n",
       "      <td>AA Batteries (4-pack)</td>\n",
       "      <td>1</td>\n",
       "      <td>3.84</td>\n",
       "      <td>2019-09-20 20:18:00</td>\n",
       "      <td>106 7th St, Atlanta, GA 30301</td>\n",
       "      <td>9</td>\n",
       "    </tr>\n",
       "    <tr>\n",
       "      <th>186803</th>\n",
       "      <td>259314</td>\n",
       "      <td>Wired Headphones</td>\n",
       "      <td>1</td>\n",
       "      <td>11.99</td>\n",
       "      <td>2019-09-16 00:25:00</td>\n",
       "      <td>241 Highland St, Atlanta, GA 30301</td>\n",
       "      <td>9</td>\n",
       "    </tr>\n",
       "    <tr>\n",
       "      <th>186804</th>\n",
       "      <td>259314</td>\n",
       "      <td>AAA Batteries (4-pack)</td>\n",
       "      <td>2</td>\n",
       "      <td>2.99</td>\n",
       "      <td>2019-09-16 00:25:00</td>\n",
       "      <td>241 Highland St, Atlanta, GA 30301</td>\n",
       "      <td>9</td>\n",
       "    </tr>\n",
       "    <tr>\n",
       "      <th>186841</th>\n",
       "      <td>259350</td>\n",
       "      <td>Google Phone</td>\n",
       "      <td>1</td>\n",
       "      <td>600.00</td>\n",
       "      <td>2019-09-30 13:49:00</td>\n",
       "      <td>519 Maple St, San Francisco, CA 94016</td>\n",
       "      <td>9</td>\n",
       "    </tr>\n",
       "    <tr>\n",
       "      <th>186842</th>\n",
       "      <td>259350</td>\n",
       "      <td>USB-C Charging Cable</td>\n",
       "      <td>1</td>\n",
       "      <td>11.95</td>\n",
       "      <td>2019-09-30 13:49:00</td>\n",
       "      <td>519 Maple St, San Francisco, CA 94016</td>\n",
       "      <td>9</td>\n",
       "    </tr>\n",
       "  </tbody>\n",
       "</table>\n",
       "<p>14649 rows × 7 columns</p>\n",
       "</div>"
      ],
      "text/plain": [
       "        Order ID                     Product  Quantity Ordered  Price Each  \\\n",
       "3         176560                Google Phone                 1      600.00   \n",
       "4         176560            Wired Headphones                 1       11.99   \n",
       "18        176574                Google Phone                 1      600.00   \n",
       "19        176574        USB-C Charging Cable                 1       11.95   \n",
       "30        176585  Bose SoundSport Headphones                 1       99.99   \n",
       "...          ...                         ...               ...         ...   \n",
       "186792    259303       AA Batteries (4-pack)                 1        3.84   \n",
       "186803    259314            Wired Headphones                 1       11.99   \n",
       "186804    259314      AAA Batteries (4-pack)                 2        2.99   \n",
       "186841    259350                Google Phone                 1      600.00   \n",
       "186842    259350        USB-C Charging Cable                 1       11.95   \n",
       "\n",
       "                Order Date                       Purchase Address  Month  \n",
       "3      2019-04-12 14:38:00   669 Spruce St, Los Angeles, CA 90001      4  \n",
       "4      2019-04-12 14:38:00   669 Spruce St, Los Angeles, CA 90001      4  \n",
       "18     2019-04-03 19:42:00      20 Hill St, Los Angeles, CA 90001      4  \n",
       "19     2019-04-03 19:42:00      20 Hill St, Los Angeles, CA 90001      4  \n",
       "30     2019-04-07 11:31:00      823 Highland St, Boston, MA 02215      4  \n",
       "...                    ...                                    ...    ...  \n",
       "186792 2019-09-20 20:18:00          106 7th St, Atlanta, GA 30301      9  \n",
       "186803 2019-09-16 00:25:00     241 Highland St, Atlanta, GA 30301      9  \n",
       "186804 2019-09-16 00:25:00     241 Highland St, Atlanta, GA 30301      9  \n",
       "186841 2019-09-30 13:49:00  519 Maple St, San Francisco, CA 94016      9  \n",
       "186842 2019-09-30 13:49:00  519 Maple St, San Francisco, CA 94016      9  \n",
       "\n",
       "[14649 rows x 7 columns]"
      ]
     },
     "execution_count": 12,
     "metadata": {},
     "output_type": "execute_result"
    }
   ],
   "source": [
    "df['Order Date'] = pd.to_datetime(df['Order Date'], errors='coerce')  # Ensure 'Order Date' is in datetime format\n",
    "\n",
    "df['Month'] = df['Order Date'].dt.month  # Access the month component\n",
    "\n",
    "\n",
    "df"
   ]
  },
  {
   "cell_type": "markdown",
   "metadata": {},
   "source": [
    "5.Adding City column"
   ]
  },
  {
   "cell_type": "code",
   "execution_count": 13,
   "metadata": {},
   "outputs": [
    {
     "data": {
      "text/html": [
       "<div>\n",
       "<style scoped>\n",
       "    .dataframe tbody tr th:only-of-type {\n",
       "        vertical-align: middle;\n",
       "    }\n",
       "\n",
       "    .dataframe tbody tr th {\n",
       "        vertical-align: top;\n",
       "    }\n",
       "\n",
       "    .dataframe thead th {\n",
       "        text-align: right;\n",
       "    }\n",
       "</style>\n",
       "<table border=\"1\" class=\"dataframe\">\n",
       "  <thead>\n",
       "    <tr style=\"text-align: right;\">\n",
       "      <th></th>\n",
       "      <th>Order ID</th>\n",
       "      <th>Product</th>\n",
       "      <th>Quantity Ordered</th>\n",
       "      <th>Price Each</th>\n",
       "      <th>Order Date</th>\n",
       "      <th>Purchase Address</th>\n",
       "      <th>Month</th>\n",
       "      <th>City</th>\n",
       "    </tr>\n",
       "  </thead>\n",
       "  <tbody>\n",
       "    <tr>\n",
       "      <th>3</th>\n",
       "      <td>176560</td>\n",
       "      <td>Google Phone</td>\n",
       "      <td>1</td>\n",
       "      <td>600.00</td>\n",
       "      <td>2019-04-12 14:38:00</td>\n",
       "      <td>669 Spruce St, Los Angeles, CA 90001</td>\n",
       "      <td>4</td>\n",
       "      <td>Los Angeles  (CA)</td>\n",
       "    </tr>\n",
       "    <tr>\n",
       "      <th>4</th>\n",
       "      <td>176560</td>\n",
       "      <td>Wired Headphones</td>\n",
       "      <td>1</td>\n",
       "      <td>11.99</td>\n",
       "      <td>2019-04-12 14:38:00</td>\n",
       "      <td>669 Spruce St, Los Angeles, CA 90001</td>\n",
       "      <td>4</td>\n",
       "      <td>Los Angeles  (CA)</td>\n",
       "    </tr>\n",
       "    <tr>\n",
       "      <th>18</th>\n",
       "      <td>176574</td>\n",
       "      <td>Google Phone</td>\n",
       "      <td>1</td>\n",
       "      <td>600.00</td>\n",
       "      <td>2019-04-03 19:42:00</td>\n",
       "      <td>20 Hill St, Los Angeles, CA 90001</td>\n",
       "      <td>4</td>\n",
       "      <td>Los Angeles  (CA)</td>\n",
       "    </tr>\n",
       "    <tr>\n",
       "      <th>19</th>\n",
       "      <td>176574</td>\n",
       "      <td>USB-C Charging Cable</td>\n",
       "      <td>1</td>\n",
       "      <td>11.95</td>\n",
       "      <td>2019-04-03 19:42:00</td>\n",
       "      <td>20 Hill St, Los Angeles, CA 90001</td>\n",
       "      <td>4</td>\n",
       "      <td>Los Angeles  (CA)</td>\n",
       "    </tr>\n",
       "    <tr>\n",
       "      <th>30</th>\n",
       "      <td>176585</td>\n",
       "      <td>Bose SoundSport Headphones</td>\n",
       "      <td>1</td>\n",
       "      <td>99.99</td>\n",
       "      <td>2019-04-07 11:31:00</td>\n",
       "      <td>823 Highland St, Boston, MA 02215</td>\n",
       "      <td>4</td>\n",
       "      <td>Boston  (MA)</td>\n",
       "    </tr>\n",
       "  </tbody>\n",
       "</table>\n",
       "</div>"
      ],
      "text/plain": [
       "    Order ID                     Product  Quantity Ordered  Price Each  \\\n",
       "3     176560                Google Phone                 1      600.00   \n",
       "4     176560            Wired Headphones                 1       11.99   \n",
       "18    176574                Google Phone                 1      600.00   \n",
       "19    176574        USB-C Charging Cable                 1       11.95   \n",
       "30    176585  Bose SoundSport Headphones                 1       99.99   \n",
       "\n",
       "            Order Date                      Purchase Address  Month  \\\n",
       "3  2019-04-12 14:38:00  669 Spruce St, Los Angeles, CA 90001      4   \n",
       "4  2019-04-12 14:38:00  669 Spruce St, Los Angeles, CA 90001      4   \n",
       "18 2019-04-03 19:42:00     20 Hill St, Los Angeles, CA 90001      4   \n",
       "19 2019-04-03 19:42:00     20 Hill St, Los Angeles, CA 90001      4   \n",
       "30 2019-04-07 11:31:00     823 Highland St, Boston, MA 02215      4   \n",
       "\n",
       "                 City  \n",
       "3   Los Angeles  (CA)  \n",
       "4   Los Angeles  (CA)  \n",
       "18  Los Angeles  (CA)  \n",
       "19  Los Angeles  (CA)  \n",
       "30       Boston  (MA)  "
      ]
     },
     "execution_count": 13,
     "metadata": {},
     "output_type": "execute_result"
    }
   ],
   "source": [
    "def get_city(address):\n",
    "    return address.split(\",\")[1].strip(\" \")\n",
    "\n",
    "def get_state(address):\n",
    "    return address.split(\",\")[2].split(\" \")[1]\n",
    "\n",
    "df['City'] = df['Purchase Address'].apply(lambda x: f\"{get_city(x)}  ({get_state(x)})\")\n",
    "df.head()"
   ]
  },
  {
   "cell_type": "markdown",
   "metadata": {},
   "source": [
    "6. Adding the sales colimn"
   ]
  },
  {
   "cell_type": "code",
   "execution_count": 14,
   "metadata": {},
   "outputs": [
    {
     "data": {
      "text/html": [
       "<div>\n",
       "<style scoped>\n",
       "    .dataframe tbody tr th:only-of-type {\n",
       "        vertical-align: middle;\n",
       "    }\n",
       "\n",
       "    .dataframe tbody tr th {\n",
       "        vertical-align: top;\n",
       "    }\n",
       "\n",
       "    .dataframe thead th {\n",
       "        text-align: right;\n",
       "    }\n",
       "</style>\n",
       "<table border=\"1\" class=\"dataframe\">\n",
       "  <thead>\n",
       "    <tr style=\"text-align: right;\">\n",
       "      <th></th>\n",
       "      <th>Order ID</th>\n",
       "      <th>Product</th>\n",
       "      <th>Quantity Ordered</th>\n",
       "      <th>Price Each</th>\n",
       "      <th>Order Date</th>\n",
       "      <th>Purchase Address</th>\n",
       "      <th>Month</th>\n",
       "      <th>City</th>\n",
       "      <th>Sales</th>\n",
       "    </tr>\n",
       "  </thead>\n",
       "  <tbody>\n",
       "    <tr>\n",
       "      <th>3</th>\n",
       "      <td>176560</td>\n",
       "      <td>Google Phone</td>\n",
       "      <td>1</td>\n",
       "      <td>600.00</td>\n",
       "      <td>2019-04-12 14:38:00</td>\n",
       "      <td>669 Spruce St, Los Angeles, CA 90001</td>\n",
       "      <td>4</td>\n",
       "      <td>Los Angeles  (CA)</td>\n",
       "      <td>600.00</td>\n",
       "    </tr>\n",
       "    <tr>\n",
       "      <th>4</th>\n",
       "      <td>176560</td>\n",
       "      <td>Wired Headphones</td>\n",
       "      <td>1</td>\n",
       "      <td>11.99</td>\n",
       "      <td>2019-04-12 14:38:00</td>\n",
       "      <td>669 Spruce St, Los Angeles, CA 90001</td>\n",
       "      <td>4</td>\n",
       "      <td>Los Angeles  (CA)</td>\n",
       "      <td>11.99</td>\n",
       "    </tr>\n",
       "    <tr>\n",
       "      <th>18</th>\n",
       "      <td>176574</td>\n",
       "      <td>Google Phone</td>\n",
       "      <td>1</td>\n",
       "      <td>600.00</td>\n",
       "      <td>2019-04-03 19:42:00</td>\n",
       "      <td>20 Hill St, Los Angeles, CA 90001</td>\n",
       "      <td>4</td>\n",
       "      <td>Los Angeles  (CA)</td>\n",
       "      <td>600.00</td>\n",
       "    </tr>\n",
       "    <tr>\n",
       "      <th>19</th>\n",
       "      <td>176574</td>\n",
       "      <td>USB-C Charging Cable</td>\n",
       "      <td>1</td>\n",
       "      <td>11.95</td>\n",
       "      <td>2019-04-03 19:42:00</td>\n",
       "      <td>20 Hill St, Los Angeles, CA 90001</td>\n",
       "      <td>4</td>\n",
       "      <td>Los Angeles  (CA)</td>\n",
       "      <td>11.95</td>\n",
       "    </tr>\n",
       "    <tr>\n",
       "      <th>30</th>\n",
       "      <td>176585</td>\n",
       "      <td>Bose SoundSport Headphones</td>\n",
       "      <td>1</td>\n",
       "      <td>99.99</td>\n",
       "      <td>2019-04-07 11:31:00</td>\n",
       "      <td>823 Highland St, Boston, MA 02215</td>\n",
       "      <td>4</td>\n",
       "      <td>Boston  (MA)</td>\n",
       "      <td>99.99</td>\n",
       "    </tr>\n",
       "    <tr>\n",
       "      <th>...</th>\n",
       "      <td>...</td>\n",
       "      <td>...</td>\n",
       "      <td>...</td>\n",
       "      <td>...</td>\n",
       "      <td>...</td>\n",
       "      <td>...</td>\n",
       "      <td>...</td>\n",
       "      <td>...</td>\n",
       "      <td>...</td>\n",
       "    </tr>\n",
       "    <tr>\n",
       "      <th>186792</th>\n",
       "      <td>259303</td>\n",
       "      <td>AA Batteries (4-pack)</td>\n",
       "      <td>1</td>\n",
       "      <td>3.84</td>\n",
       "      <td>2019-09-20 20:18:00</td>\n",
       "      <td>106 7th St, Atlanta, GA 30301</td>\n",
       "      <td>9</td>\n",
       "      <td>Atlanta  (GA)</td>\n",
       "      <td>3.84</td>\n",
       "    </tr>\n",
       "    <tr>\n",
       "      <th>186803</th>\n",
       "      <td>259314</td>\n",
       "      <td>Wired Headphones</td>\n",
       "      <td>1</td>\n",
       "      <td>11.99</td>\n",
       "      <td>2019-09-16 00:25:00</td>\n",
       "      <td>241 Highland St, Atlanta, GA 30301</td>\n",
       "      <td>9</td>\n",
       "      <td>Atlanta  (GA)</td>\n",
       "      <td>11.99</td>\n",
       "    </tr>\n",
       "    <tr>\n",
       "      <th>186804</th>\n",
       "      <td>259314</td>\n",
       "      <td>AAA Batteries (4-pack)</td>\n",
       "      <td>2</td>\n",
       "      <td>2.99</td>\n",
       "      <td>2019-09-16 00:25:00</td>\n",
       "      <td>241 Highland St, Atlanta, GA 30301</td>\n",
       "      <td>9</td>\n",
       "      <td>Atlanta  (GA)</td>\n",
       "      <td>5.98</td>\n",
       "    </tr>\n",
       "    <tr>\n",
       "      <th>186841</th>\n",
       "      <td>259350</td>\n",
       "      <td>Google Phone</td>\n",
       "      <td>1</td>\n",
       "      <td>600.00</td>\n",
       "      <td>2019-09-30 13:49:00</td>\n",
       "      <td>519 Maple St, San Francisco, CA 94016</td>\n",
       "      <td>9</td>\n",
       "      <td>San Francisco  (CA)</td>\n",
       "      <td>600.00</td>\n",
       "    </tr>\n",
       "    <tr>\n",
       "      <th>186842</th>\n",
       "      <td>259350</td>\n",
       "      <td>USB-C Charging Cable</td>\n",
       "      <td>1</td>\n",
       "      <td>11.95</td>\n",
       "      <td>2019-09-30 13:49:00</td>\n",
       "      <td>519 Maple St, San Francisco, CA 94016</td>\n",
       "      <td>9</td>\n",
       "      <td>San Francisco  (CA)</td>\n",
       "      <td>11.95</td>\n",
       "    </tr>\n",
       "  </tbody>\n",
       "</table>\n",
       "<p>14649 rows × 9 columns</p>\n",
       "</div>"
      ],
      "text/plain": [
       "        Order ID                     Product  Quantity Ordered  Price Each  \\\n",
       "3         176560                Google Phone                 1      600.00   \n",
       "4         176560            Wired Headphones                 1       11.99   \n",
       "18        176574                Google Phone                 1      600.00   \n",
       "19        176574        USB-C Charging Cable                 1       11.95   \n",
       "30        176585  Bose SoundSport Headphones                 1       99.99   \n",
       "...          ...                         ...               ...         ...   \n",
       "186792    259303       AA Batteries (4-pack)                 1        3.84   \n",
       "186803    259314            Wired Headphones                 1       11.99   \n",
       "186804    259314      AAA Batteries (4-pack)                 2        2.99   \n",
       "186841    259350                Google Phone                 1      600.00   \n",
       "186842    259350        USB-C Charging Cable                 1       11.95   \n",
       "\n",
       "                Order Date                       Purchase Address  Month  \\\n",
       "3      2019-04-12 14:38:00   669 Spruce St, Los Angeles, CA 90001      4   \n",
       "4      2019-04-12 14:38:00   669 Spruce St, Los Angeles, CA 90001      4   \n",
       "18     2019-04-03 19:42:00      20 Hill St, Los Angeles, CA 90001      4   \n",
       "19     2019-04-03 19:42:00      20 Hill St, Los Angeles, CA 90001      4   \n",
       "30     2019-04-07 11:31:00      823 Highland St, Boston, MA 02215      4   \n",
       "...                    ...                                    ...    ...   \n",
       "186792 2019-09-20 20:18:00          106 7th St, Atlanta, GA 30301      9   \n",
       "186803 2019-09-16 00:25:00     241 Highland St, Atlanta, GA 30301      9   \n",
       "186804 2019-09-16 00:25:00     241 Highland St, Atlanta, GA 30301      9   \n",
       "186841 2019-09-30 13:49:00  519 Maple St, San Francisco, CA 94016      9   \n",
       "186842 2019-09-30 13:49:00  519 Maple St, San Francisco, CA 94016      9   \n",
       "\n",
       "                       City   Sales  \n",
       "3         Los Angeles  (CA)  600.00  \n",
       "4         Los Angeles  (CA)   11.99  \n",
       "18        Los Angeles  (CA)  600.00  \n",
       "19        Los Angeles  (CA)   11.95  \n",
       "30             Boston  (MA)   99.99  \n",
       "...                     ...     ...  \n",
       "186792        Atlanta  (GA)    3.84  \n",
       "186803        Atlanta  (GA)   11.99  \n",
       "186804        Atlanta  (GA)    5.98  \n",
       "186841  San Francisco  (CA)  600.00  \n",
       "186842  San Francisco  (CA)   11.95  \n",
       "\n",
       "[14649 rows x 9 columns]"
      ]
     },
     "execution_count": 14,
     "metadata": {},
     "output_type": "execute_result"
    }
   ],
   "source": [
    "df['Sales'] = df['Quantity Ordered'] * df['Price Each']\n",
    "\n",
    "df"
   ]
  },
  {
   "cell_type": "markdown",
   "metadata": {},
   "source": [
    "## Data Exploration"
   ]
  },
  {
   "cell_type": "markdown",
   "metadata": {},
   "source": [
    "Sales for each month"
   ]
  },
  {
   "cell_type": "code",
   "execution_count": 15,
   "metadata": {},
   "outputs": [
    {
     "data": {
      "text/plain": [
       "Month\n",
       "1     200532.35\n",
       "2     244640.73\n",
       "3     291465.51\n",
       "4     382490.31\n",
       "5     354477.67\n",
       "6     285938.26\n",
       "7     266313.86\n",
       "8     235424.48\n",
       "9     208410.31\n",
       "10    410081.29\n",
       "11    339327.13\n",
       "12    480377.61\n",
       "Name: Sales, dtype: float64"
      ]
     },
     "execution_count": 15,
     "metadata": {},
     "output_type": "execute_result"
    }
   ],
   "source": [
    "df.groupby('Month')['Sales'].sum()"
   ]
  },
  {
   "cell_type": "markdown",
   "metadata": {},
   "source": [
    "Plotting the sales visual"
   ]
  },
  {
   "cell_type": "code",
   "execution_count": 16,
   "metadata": {},
   "outputs": [
    {
     "data": {
      "image/png": "[encoded data removed]",
      "text/plain": [
       "<Figure size 640x480 with 1 Axes>"
      ]
     },
     "metadata": {},
     "output_type": "display_data"
    }
   ],
   "source": [
    "results = df.groupby('Month')['Sales'].sum()\n",
    "results = results.sort_values(ascending=False)\n",
    "months = range(1, 13)\n",
    "\n",
    "font_dict = {\n",
    "    'family': 'Times New Roman',   # You can change this to 'sans-serif', 'monospace', etc.\n",
    "    'fontsize': 12,       # Font size\n",
    "    'weight': 'bold'}     # Font weight\n",
    "\n",
    "plt.title('Monthly Sales', font_dict)\n",
    "plt.bar(months, results)\n",
    "plt.xticks\n",
    "plt.xlabel('Months')\n",
    "plt.ylabel('Sales (USD in Millions)')\n",
    "\n",
    "plt.show()"
   ]
  },
  {
   "cell_type": "markdown",
   "metadata": {},
   "source": [
    "Total sales for each City"
   ]
  },
  {
   "cell_type": "code",
   "execution_count": 17,
   "metadata": {},
   "outputs": [
    {
     "data": {
      "text/plain": [
       "City\n",
       "Atlanta  (GA)          319432.46\n",
       "Austin  (TX)           182136.48\n",
       "Boston  (MA)           394961.30\n",
       "Dallas  (TX)           284598.19\n",
       "Los Angeles  (CA)      557713.16\n",
       "New York City  (NY)    510436.35\n",
       "Portland  (ME)          41917.36\n",
       "Portland  (OR)         201192.01\n",
       "San Francisco  (CA)    896779.93\n",
       "Seattle  (WA)          310312.27\n",
       "Name: Sales, dtype: float64"
      ]
     },
     "execution_count": 17,
     "metadata": {},
     "output_type": "execute_result"
    }
   ],
   "source": [
    "result1 = df.groupby('City')['Sales'].sum()\n",
    "\n",
    "result1"
   ]
  },
  {
   "cell_type": "markdown",
   "metadata": {},
   "source": [
    "Plotting the Sales on each City"
   ]
  },
  {
   "cell_type": "code",
   "execution_count": 18,
   "metadata": {},
   "outputs": [
    {
     "data": {
      "image/png": "[encoded data removed]",
      "text/plain": [
       "<Figure size 640x480 with 1 Axes>"
      ]
     },
     "metadata": {},
     "output_type": "display_data"
    }
   ],
   "source": [
    "result1 = df.groupby('City')['Sales'].sum()\n",
    "result1 = result1.sort_values(ascending=False)\n",
    "\n",
    "plt.bar(result1.index, result1.values)\n",
    "plt.title('Total Sales on each City', font_dict)\n",
    "plt.xlabel('City')\n",
    "plt.ylabel('Sales in (USD in Millions)')\n",
    "\n",
    "# Rotate city labels on x-axis to prevent overlap\n",
    "plt.xticks(rotation=45, ha='right')  # 'ha' aligns the labels to the right\n",
    "\n",
    "plt.show()"
   ]
  },
  {
   "cell_type": "markdown",
   "metadata": {},
   "source": [
    "What time should we display the advertisements to increase customer likelyhood to buy the product"
   ]
  },
  {
   "cell_type": "code",
   "execution_count": 19,
   "metadata": {},
   "outputs": [
    {
     "data": {
      "text/html": [
       "<div>\n",
       "<style scoped>\n",
       "    .dataframe tbody tr th:only-of-type {\n",
       "        vertical-align: middle;\n",
       "    }\n",
       "\n",
       "    .dataframe tbody tr th {\n",
       "        vertical-align: top;\n",
       "    }\n",
       "\n",
       "    .dataframe thead th {\n",
       "        text-align: right;\n",
       "    }\n",
       "</style>\n",
       "<table border=\"1\" class=\"dataframe\">\n",
       "  <thead>\n",
       "    <tr style=\"text-align: right;\">\n",
       "      <th></th>\n",
       "      <th>Order ID</th>\n",
       "      <th>Product</th>\n",
       "      <th>Quantity Ordered</th>\n",
       "      <th>Price Each</th>\n",
       "      <th>Order Date</th>\n",
       "      <th>Purchase Address</th>\n",
       "      <th>Month</th>\n",
       "      <th>City</th>\n",
       "      <th>Sales</th>\n",
       "      <th>Hour</th>\n",
       "      <th>Minute</th>\n",
       "      <th>Count</th>\n",
       "    </tr>\n",
       "  </thead>\n",
       "  <tbody>\n",
       "    <tr>\n",
       "      <th>3</th>\n",
       "      <td>176560</td>\n",
       "      <td>Google Phone</td>\n",
       "      <td>1</td>\n",
       "      <td>600.00</td>\n",
       "      <td>2019-04-12 14:38:00</td>\n",
       "      <td>669 Spruce St, Los Angeles, CA 90001</td>\n",
       "      <td>4</td>\n",
       "      <td>Los Angeles  (CA)</td>\n",
       "      <td>600.00</td>\n",
       "      <td>14</td>\n",
       "      <td>38</td>\n",
       "      <td>1</td>\n",
       "    </tr>\n",
       "    <tr>\n",
       "      <th>4</th>\n",
       "      <td>176560</td>\n",
       "      <td>Wired Headphones</td>\n",
       "      <td>1</td>\n",
       "      <td>11.99</td>\n",
       "      <td>2019-04-12 14:38:00</td>\n",
       "      <td>669 Spruce St, Los Angeles, CA 90001</td>\n",
       "      <td>4</td>\n",
       "      <td>Los Angeles  (CA)</td>\n",
       "      <td>11.99</td>\n",
       "      <td>14</td>\n",
       "      <td>38</td>\n",
       "      <td>1</td>\n",
       "    </tr>\n",
       "    <tr>\n",
       "      <th>18</th>\n",
       "      <td>176574</td>\n",
       "      <td>Google Phone</td>\n",
       "      <td>1</td>\n",
       "      <td>600.00</td>\n",
       "      <td>2019-04-03 19:42:00</td>\n",
       "      <td>20 Hill St, Los Angeles, CA 90001</td>\n",
       "      <td>4</td>\n",
       "      <td>Los Angeles  (CA)</td>\n",
       "      <td>600.00</td>\n",
       "      <td>19</td>\n",
       "      <td>42</td>\n",
       "      <td>1</td>\n",
       "    </tr>\n",
       "    <tr>\n",
       "      <th>19</th>\n",
       "      <td>176574</td>\n",
       "      <td>USB-C Charging Cable</td>\n",
       "      <td>1</td>\n",
       "      <td>11.95</td>\n",
       "      <td>2019-04-03 19:42:00</td>\n",
       "      <td>20 Hill St, Los Angeles, CA 90001</td>\n",
       "      <td>4</td>\n",
       "      <td>Los Angeles  (CA)</td>\n",
       "      <td>11.95</td>\n",
       "      <td>19</td>\n",
       "      <td>42</td>\n",
       "      <td>1</td>\n",
       "    </tr>\n",
       "    <tr>\n",
       "      <th>30</th>\n",
       "      <td>176585</td>\n",
       "      <td>Bose SoundSport Headphones</td>\n",
       "      <td>1</td>\n",
       "      <td>99.99</td>\n",
       "      <td>2019-04-07 11:31:00</td>\n",
       "      <td>823 Highland St, Boston, MA 02215</td>\n",
       "      <td>4</td>\n",
       "      <td>Boston  (MA)</td>\n",
       "      <td>99.99</td>\n",
       "      <td>11</td>\n",
       "      <td>31</td>\n",
       "      <td>1</td>\n",
       "    </tr>\n",
       "  </tbody>\n",
       "</table>\n",
       "</div>"
      ],
      "text/plain": [
       "    Order ID                     Product  Quantity Ordered  Price Each  \\\n",
       "3     176560                Google Phone                 1      600.00   \n",
       "4     176560            Wired Headphones                 1       11.99   \n",
       "18    176574                Google Phone                 1      600.00   \n",
       "19    176574        USB-C Charging Cable                 1       11.95   \n",
       "30    176585  Bose SoundSport Headphones                 1       99.99   \n",
       "\n",
       "            Order Date                      Purchase Address  Month  \\\n",
       "3  2019-04-12 14:38:00  669 Spruce St, Los Angeles, CA 90001      4   \n",
       "4  2019-04-12 14:38:00  669 Spruce St, Los Angeles, CA 90001      4   \n",
       "18 2019-04-03 19:42:00     20 Hill St, Los Angeles, CA 90001      4   \n",
       "19 2019-04-03 19:42:00     20 Hill St, Los Angeles, CA 90001      4   \n",
       "30 2019-04-07 11:31:00     823 Highland St, Boston, MA 02215      4   \n",
       "\n",
       "                 City   Sales  Hour  Minute  Count  \n",
       "3   Los Angeles  (CA)  600.00    14      38      1  \n",
       "4   Los Angeles  (CA)   11.99    14      38      1  \n",
       "18  Los Angeles  (CA)  600.00    19      42      1  \n",
       "19  Los Angeles  (CA)   11.95    19      42      1  \n",
       "30       Boston  (MA)   99.99    11      31      1  "
      ]
     },
     "execution_count": 19,
     "metadata": {},
     "output_type": "execute_result"
    }
   ],
   "source": [
    "# Convert 'Order Date' to datetime\n",
    "df['Order Date'] = pd.to_datetime(df['Order Date'], errors='coerce')\n",
    "\n",
    "# Extract the hour from 'Order Date' and create a new column 'Hour'\n",
    "df['Hour'] = df['Order Date'].dt.hour\n",
    "df['Minute'] = df['Order Date'].dt.minute\n",
    "df['Count'] = 1\n",
    "\n",
    "\n",
    "# Check the result\n",
    "df.head()"
   ]
  },
  {
   "cell_type": "code",
   "execution_count": 20,
   "metadata": {},
   "outputs": [
    {
     "data": {
      "image/png": "[encoded data removed]",
      "text/plain": [
       "<Figure size 640x480 with 1 Axes>"
      ]
     },
     "metadata": {},
     "output_type": "display_data"
    }
   ],
   "source": [
    "def count_orders_by_hour(df):\n",
    "    # Group by the 'Hour' column and count the number of occurrences\n",
    "    hour_count = df.groupby('Hour').size().reindex(range(1, 25), fill_value=0)\n",
    "    \n",
    "    return hour_count\n",
    "\n",
    "# Call the function to get the count of orders by hour\n",
    "hour_counts = count_orders_by_hour(df)\n",
    "\n",
    "\n",
    "# Plot the bar graph\n",
    "plt.plot(hour_counts.index, hour_counts.values)\n",
    "plt.grid()\n",
    "plt.xlabel('Hour of the Day (1 to 24)', fontdict={'fontsize': 12})\n",
    "plt.ylabel('Number of Orders', fontdict={'fontsize': 12})\n",
    "plt.title('Number of Orders by Hour', fontdict={'fontsize': 14})\n",
    "plt.xticks(range(1, 25))  # Set the x-axis to show all hours from 1 to 24\n",
    "plt.show()\n",
    "\n"
   ]
  },
  {
   "cell_type": "markdown",
   "metadata": {},
   "source": [
    "What products that are often bought together"
   ]
  },
  {
   "cell_type": "code",
   "execution_count": 22,
   "metadata": {},
   "outputs": [],
   "source": [
    "df = df[df['Order ID'].duplicated(keep=False)]"
   ]
  },
  {
   "cell_type": "code",
   "execution_count": 23,
   "metadata": {},
   "outputs": [],
   "source": [
    "#grouping by order Number\n",
    "df['Grouped'] = df.groupby('Order ID')['Product'].transform(lambda x: ','.join(x))\n",
    "df2 = df[['Order ID', 'Grouped']].drop_duplicates()"
   ]
  },
  {
   "cell_type": "code",
   "execution_count": 24,
   "metadata": {},
   "outputs": [
    {
     "data": {
      "text/html": [
       "<div>\n",
       "<style scoped>\n",
       "    .dataframe tbody tr th:only-of-type {\n",
       "        vertical-align: middle;\n",
       "    }\n",
       "\n",
       "    .dataframe tbody tr th {\n",
       "        vertical-align: top;\n",
       "    }\n",
       "\n",
       "    .dataframe thead th {\n",
       "        text-align: right;\n",
       "    }\n",
       "</style>\n",
       "<table border=\"1\" class=\"dataframe\">\n",
       "  <thead>\n",
       "    <tr style=\"text-align: right;\">\n",
       "      <th></th>\n",
       "      <th>Order ID</th>\n",
       "      <th>Product</th>\n",
       "      <th>Quantity Ordered</th>\n",
       "      <th>Price Each</th>\n",
       "      <th>Order Date</th>\n",
       "      <th>Purchase Address</th>\n",
       "      <th>Month</th>\n",
       "      <th>City</th>\n",
       "      <th>Sales</th>\n",
       "      <th>Hour</th>\n",
       "      <th>Minute</th>\n",
       "      <th>Count</th>\n",
       "      <th>Grouped</th>\n",
       "    </tr>\n",
       "  </thead>\n",
       "  <tbody>\n",
       "    <tr>\n",
       "      <th>3</th>\n",
       "      <td>176560</td>\n",
       "      <td>Google Phone</td>\n",
       "      <td>1</td>\n",
       "      <td>600.00</td>\n",
       "      <td>2019-04-12 14:38:00</td>\n",
       "      <td>669 Spruce St, Los Angeles, CA 90001</td>\n",
       "      <td>4</td>\n",
       "      <td>Los Angeles  (CA)</td>\n",
       "      <td>600.00</td>\n",
       "      <td>14</td>\n",
       "      <td>38</td>\n",
       "      <td>1</td>\n",
       "      <td>Google Phone,Wired Headphones</td>\n",
       "    </tr>\n",
       "    <tr>\n",
       "      <th>4</th>\n",
       "      <td>176560</td>\n",
       "      <td>Wired Headphones</td>\n",
       "      <td>1</td>\n",
       "      <td>11.99</td>\n",
       "      <td>2019-04-12 14:38:00</td>\n",
       "      <td>669 Spruce St, Los Angeles, CA 90001</td>\n",
       "      <td>4</td>\n",
       "      <td>Los Angeles  (CA)</td>\n",
       "      <td>11.99</td>\n",
       "      <td>14</td>\n",
       "      <td>38</td>\n",
       "      <td>1</td>\n",
       "      <td>Google Phone,Wired Headphones</td>\n",
       "    </tr>\n",
       "    <tr>\n",
       "      <th>18</th>\n",
       "      <td>176574</td>\n",
       "      <td>Google Phone</td>\n",
       "      <td>1</td>\n",
       "      <td>600.00</td>\n",
       "      <td>2019-04-03 19:42:00</td>\n",
       "      <td>20 Hill St, Los Angeles, CA 90001</td>\n",
       "      <td>4</td>\n",
       "      <td>Los Angeles  (CA)</td>\n",
       "      <td>600.00</td>\n",
       "      <td>19</td>\n",
       "      <td>42</td>\n",
       "      <td>1</td>\n",
       "      <td>Google Phone,USB-C Charging Cable</td>\n",
       "    </tr>\n",
       "    <tr>\n",
       "      <th>19</th>\n",
       "      <td>176574</td>\n",
       "      <td>USB-C Charging Cable</td>\n",
       "      <td>1</td>\n",
       "      <td>11.95</td>\n",
       "      <td>2019-04-03 19:42:00</td>\n",
       "      <td>20 Hill St, Los Angeles, CA 90001</td>\n",
       "      <td>4</td>\n",
       "      <td>Los Angeles  (CA)</td>\n",
       "      <td>11.95</td>\n",
       "      <td>19</td>\n",
       "      <td>42</td>\n",
       "      <td>1</td>\n",
       "      <td>Google Phone,USB-C Charging Cable</td>\n",
       "    </tr>\n",
       "    <tr>\n",
       "      <th>30</th>\n",
       "      <td>176585</td>\n",
       "      <td>Bose SoundSport Headphones</td>\n",
       "      <td>1</td>\n",
       "      <td>99.99</td>\n",
       "      <td>2019-04-07 11:31:00</td>\n",
       "      <td>823 Highland St, Boston, MA 02215</td>\n",
       "      <td>4</td>\n",
       "      <td>Boston  (MA)</td>\n",
       "      <td>99.99</td>\n",
       "      <td>11</td>\n",
       "      <td>31</td>\n",
       "      <td>1</td>\n",
       "      <td>Bose SoundSport Headphones,Bose SoundSport Hea...</td>\n",
       "    </tr>\n",
       "  </tbody>\n",
       "</table>\n",
       "</div>"
      ],
      "text/plain": [
       "    Order ID                     Product  Quantity Ordered  Price Each  \\\n",
       "3     176560                Google Phone                 1      600.00   \n",
       "4     176560            Wired Headphones                 1       11.99   \n",
       "18    176574                Google Phone                 1      600.00   \n",
       "19    176574        USB-C Charging Cable                 1       11.95   \n",
       "30    176585  Bose SoundSport Headphones                 1       99.99   \n",
       "\n",
       "            Order Date                      Purchase Address  Month  \\\n",
       "3  2019-04-12 14:38:00  669 Spruce St, Los Angeles, CA 90001      4   \n",
       "4  2019-04-12 14:38:00  669 Spruce St, Los Angeles, CA 90001      4   \n",
       "18 2019-04-03 19:42:00     20 Hill St, Los Angeles, CA 90001      4   \n",
       "19 2019-04-03 19:42:00     20 Hill St, Los Angeles, CA 90001      4   \n",
       "30 2019-04-07 11:31:00     823 Highland St, Boston, MA 02215      4   \n",
       "\n",
       "                 City   Sales  Hour  Minute  Count  \\\n",
       "3   Los Angeles  (CA)  600.00    14      38      1   \n",
       "4   Los Angeles  (CA)   11.99    14      38      1   \n",
       "18  Los Angeles  (CA)  600.00    19      42      1   \n",
       "19  Los Angeles  (CA)   11.95    19      42      1   \n",
       "30       Boston  (MA)   99.99    11      31      1   \n",
       "\n",
       "                                              Grouped  \n",
       "3                       Google Phone,Wired Headphones  \n",
       "4                       Google Phone,Wired Headphones  \n",
       "18                  Google Phone,USB-C Charging Cable  \n",
       "19                  Google Phone,USB-C Charging Cable  \n",
       "30  Bose SoundSport Headphones,Bose SoundSport Hea...  "
      ]
     },
     "execution_count": 24,
     "metadata": {},
     "output_type": "execute_result"
    }
   ],
   "source": [
    "df.head()"
   ]
  },
  {
   "cell_type": "code",
   "execution_count": 25,
   "metadata": {},
   "outputs": [
    {
     "name": "stdout",
     "output_type": "stream",
     "text": [
      "('iPhone', 'Lightning Charging Cable') 1005\n",
      "('Google Phone', 'USB-C Charging Cable') 987\n",
      "('iPhone', 'Wired Headphones') 447\n",
      "('Google Phone', 'Wired Headphones') 414\n",
      "('Vareebadd Phone', 'USB-C Charging Cable') 361\n",
      "('iPhone', 'Apple Airpods Headphones') 360\n",
      "('Google Phone', 'Bose SoundSport Headphones') 220\n",
      "('USB-C Charging Cable', 'Wired Headphones') 160\n",
      "('Vareebadd Phone', 'Wired Headphones') 143\n",
      "('Lightning Charging Cable', 'Wired Headphones') 92\n"
     ]
    }
   ],
   "source": [
    "from itertools import combinations  # Importing the combinations function from itertools to generate pair combinations\n",
    "from collections import Counter  # Importing Counter from collections to count occurrences of pairs\n",
    "\n",
    "count = Counter()  # Initializing a Counter object to keep track of pair frequencies\n",
    "\n",
    "# Loop through each row in the 'Grouped' column of df2\n",
    "for row in df2['Grouped']:\n",
    "    row_list = row.split(',')  # Split the grouped product string into a list of individual products\n",
    "    count.update(Counter(combinations(row_list, 2)))  # Create all possible pairs of two products, count them, and update the Counter\n",
    "\n",
    "# Print the 10 most common product pairs along with their counts\n",
    "for key, value in count.most_common(10):\n",
    "    print(key, value)  # Display each pair (as a tuple) and the number of times it occurred"
   ]
  },
  {
   "cell_type": "markdown",
   "metadata": {},
   "source": [
    "## Highest selling products"
   ]
  },
  {
   "cell_type": "code",
   "execution_count": 26,
   "metadata": {},
   "outputs": [
    {
     "data": {
      "image/png": "[encoded data removed]",
      "text/plain": [
       "<Figure size 640x480 with 1 Axes>"
      ]
     },
     "metadata": {},
     "output_type": "display_data"
    }
   ],
   "source": [
    "# First, ensure 'Quantity Ordered' is numeric (in case it's been read as a string)\n",
    "df['Quantity Ordered'] = pd.to_numeric(df['Quantity Ordered'], errors='coerce')\n",
    "\n",
    "# Group by 'Product' and sum the 'Quantity Ordered' column\n",
    "product_group = df.groupby('Product')['Quantity Ordered'].sum()\n",
    "\n",
    "# Sort the products by 'Quantity Ordered' in descending order\n",
    "product_group_sorted = product_group.sort_values(ascending=False)\n",
    "\n",
    "# Plot the sorted data\n",
    "plt.bar(product_group_sorted.index, product_group_sorted.values)\n",
    "plt.title('Sales by Product', font_dict)\n",
    "plt.ylabel('Quantity Ordered')\n",
    "plt.xlabel('Product')\n",
    "plt.xticks(rotation='vertical')\n",
    "plt.show()\n"
   ]
  },
  {
   "cell_type": "code",
   "execution_count": 27,
   "metadata": {},
   "outputs": [
    {
     "data": {
      "text/plain": [
       "Index(['Order ID', 'Product', 'Quantity Ordered', 'Price Each', 'Order Date',\n",
       "       'Purchase Address', 'Month', 'City', 'Sales', 'Hour', 'Minute', 'Count',\n",
       "       'Grouped'],\n",
       "      dtype='object')"
      ]
     },
     "execution_count": 27,
     "metadata": {},
     "output_type": "execute_result"
    }
   ],
   "source": [
    "df.columns"
   ]
  },
  {
   "cell_type": "code",
   "execution_count": 29,
   "metadata": {},
   "outputs": [
    {
     "data": {
      "image/png": "[encoded data removed]",
      "text/plain": [
       "<Figure size 1000x600 with 1 Axes>"
      ]
     },
     "metadata": {},
     "output_type": "display_data"
    },
    {
     "name": "stdout",
     "output_type": "stream",
     "text": [
      "Correlation coefficient between Price and Quantity Ordered: -0.16195917711075924\n"
     ]
    }
   ],
   "source": [
    "# Ensure 'Quantity Ordered' and 'Price Each' are numeric\n",
    "df['Quantity Ordered'] = pd.to_numeric(df['Quantity Ordered'], errors='coerce')\n",
    "df['Price Each'] = pd.to_numeric(df['Price Each'], errors='coerce')\n",
    "\n",
    "# Drop rows with missing or invalid data\n",
    "cleaned_data = df.dropna(subset=['Quantity Ordered', 'Price Each'])\n",
    "\n",
    "\n",
    "plt.figure(figsize=(10,6))\n",
    "plt.scatter(cleaned_data['Price Each'], cleaned_data['Quantity Ordered'], alpha=0.5)\n",
    "plt.title('Price vs Quantity Ordered', font_dict)\n",
    "plt.xlabel('Price Each')\n",
    "plt.ylabel('Quantity Ordered')\n",
    "plt.grid(True)\n",
    "plt.show()\n",
    "\n",
    "# Calculate the correlation coefficient\n",
    "correlation_coefficient = cleaned_data[['Price Each', 'Quantity Ordered']].corr().iloc[0, 1]\n",
    "print(f'Correlation coefficient between Price and Quantity Ordered: {correlation_coefficient}')\n"
   ]
  },
  {
   "cell_type": "code",
   "execution_count": null,
   "metadata": {},
   "outputs": [],
   "source": []
  }
 ],
 "metadata": {
  "kernelspec": {
   "display_name": "Python 3",
   "language": "python",
   "name": "python3"
  },
  "language_info": {
   "codemirror_mode": {
    "name": "ipython",
    "version": 3
   },
   "file_extension": ".py",
   "mimetype": "text/x-python",
   "name": "python",
   "nbconvert_exporter": "python",
   "pygments_lexer": "ipython3",
   "version": "3.12.5"
  }
 },
 "nbformat": 4,
 "nbformat_minor": 2
}
